{
  "nbformat": 4,
  "nbformat_minor": 0,
  "metadata": {
    "colab": {
      "name": "fraud-card",
      "provenance": [],
      "mount_file_id": "1HnqQ1Ot_4HChUCW7SXebtqQ2Yr-xGE-V",
      "authorship_tag": "ABX9TyNExLTIAvOUoYIraYe6jwAo",
      "include_colab_link": true
    },
    "kernelspec": {
      "name": "python3",
      "display_name": "Python 3"
    },
    "language_info": {
      "name": "python"
    }
  },
  "cells": [
    {
      "cell_type": "markdown",
      "metadata": {
        "id": "view-in-github",
        "colab_type": "text"
      },
      "source": [
        "<a href=\"https://colab.research.google.com/github/Gabriel1Vitor/Gabriel1Vitor/blob/main/fraud_card.ipynb\" target=\"_parent\"><img src=\"https://colab.research.google.com/assets/colab-badge.svg\" alt=\"Open In Colab\"/></a>"
      ]
    },
    {
      "cell_type": "code",
      "execution_count": 1,
      "metadata": {
        "id": "Q8CfzLn69voc"
      },
      "outputs": [],
      "source": [
        "import pandas as pd\n",
        "import numpy as np\n",
        "import matplotlib.pyplot as plt\n",
        "from sklearn.tree import DecisionTreeClassifier \n",
        "from sklearn.metrics import mean_absolute_error\n",
        "from xgboost import XGBClassifier\n",
        "from sklearn.ensemble import RandomForestClassifier\n",
        "from sklearn.linear_model import RidgeClassifier\n",
        "from sklearn.model_selection import train_test_split\n",
        "import seaborn as sns\n",
        "#como identificar fraudes\n",
        "card=pd.read_csv(\"/content/drive/MyDrive/creditcard.csv\")\n",
        "\n",
        "#a resposta\n",
        "naofraude=card[card['Class']<1]\n",
        "fraude=card[card[\"Class\"]==1]\n",
        "\n",
        "#como eu chego mais perto dela\n",
        "x=card.drop(columns=[\"Class\"])\n",
        "y=card[\"Class\"]\n",
        "xtr,xts,ytr,yts=train_test_split(x,y,random_state=30,test_size=0.3)"
      ]
    },
    {
      "cell_type": "code",
      "source": [
        "#primeiro modelo\n",
        "xgc=XGBClassifier(random_state=0,learning_rate=0.1,n_estimators=100)\n",
        "xgc.fit(xtr,ytr)\n",
        "prev=xgc.predict(xts)\n",
        "mean=mean_absolute_error(yts,prev)\n",
        "mean"
      ],
      "metadata": {
        "colab": {
          "base_uri": "https://localhost:8080/"
        },
        "id": "6c-gZ1fn0_td",
        "outputId": "8ab0ba01-c6b9-47c3-d386-95fb2dbe7cb8"
      },
      "execution_count": null,
      "outputs": [
        {
          "output_type": "execute_result",
          "data": {
            "text/plain": [
              "0.00047985206511943633"
            ]
          },
          "metadata": {},
          "execution_count": 23
        }
      ]
    },
    {
      "cell_type": "code",
      "source": [
        "#segundo modelo\n",
        "rid=RidgeClassifier(random_state=0)\n",
        "rid.fit(xtr,ytr)\n",
        "prev=rid.predict(xts)\n",
        "mean2=mean_absolute_error(yts,prev)\n",
        "mean2"
      ],
      "metadata": {
        "id": "U2gn8qt1-bMO",
        "colab": {
          "base_uri": "https://localhost:8080/"
        },
        "outputId": "5a1af92b-333d-495f-d1a6-fd0a3cc1096e"
      },
      "execution_count": null,
      "outputs": [
        {
          "output_type": "execute_result",
          "data": {
            "text/plain": [
              "0.0011352597638191542"
            ]
          },
          "metadata": {},
          "execution_count": 18
        }
      ]
    },
    {
      "cell_type": "code",
      "source": [
        "#terceiro modelo\n",
        "dtc=DecisionTreeClassifier(random_state=0,min_samples_split=3)\n",
        "dtc.fit(xtr,ytr)\n",
        "prev=dtc.predict(xts)\n",
        "mean3=mean_absolute_error(yts,prev)\n",
        "mean3"
      ],
      "metadata": {
        "id": "6w-Z2FKv4yYw",
        "colab": {
          "base_uri": "https://localhost:8080/"
        },
        "outputId": "2e5d0911-bbc2-4f95-bc29-a88505f521fd"
      },
      "execution_count": null,
      "outputs": [
        {
          "output_type": "execute_result",
          "data": {
            "text/plain": [
              "0.0008192596233746474"
            ]
          },
          "metadata": {},
          "execution_count": 21
        }
      ]
    },
    {
      "cell_type": "code",
      "source": [
        "#quarto modelo \n",
        "\n",
        "#é maior por causa que sem amount aumenta sua taxa de acerto\n",
        "x1=card.drop(columns=[\"Class\",\"Amount\"])\n",
        "xtr1,xts1,ytr1,yts1=train_test_split(x1,y,random_state=0,test_size=0.3)\n",
        "\n",
        "rfc=RandomForestClassifier(random_state=30,min_samples_split=2)\n",
        "rfc.fit(xtr1,ytr1)\n",
        "prev=rfc.predict(xts1)\n",
        "mean4=mean_absolute_error(yts1,prev)\n",
        "mean4"
      ],
      "metadata": {
        "colab": {
          "base_uri": "https://localhost:8080/"
        },
        "id": "Fbpjlcaz2ID7",
        "outputId": "fd32edf9-622a-4e74-ebf8-fd8d9f4c9967"
      },
      "execution_count": null,
      "outputs": [
        {
          "output_type": "execute_result",
          "data": {
            "text/plain": [
              "0.0004915557740247885"
            ]
          },
          "metadata": {},
          "execution_count": 37
        }
      ]
    },
    {
      "cell_type": "code",
      "source": [
        "#numero com ou sem a coluna Amount \n",
        "mod=[\" \",\"xgc\",\"rid\",\"dtc\",\"rfc\"],[\"com\",0.00046814835621408426,0.0011352597638191542,0.0008192596233746474,0.0005149631918354927],[\"sem\",0.00046814835621408426,0.0011352597638191542,0.0008543707500907038,0.0004915557740247885]\n",
        "pd.DataFrame(mod)"
      ],
      "metadata": {
        "colab": {
          "base_uri": "https://localhost:8080/",
          "height": 143
        },
        "id": "dJEQZdQ39PVd",
        "outputId": "83a371be-ff6a-4761-f79b-d4ccacd8427f"
      },
      "execution_count": null,
      "outputs": [
        {
          "output_type": "execute_result",
          "data": {
            "text/html": [
              "\n",
              "  <div id=\"df-fa2efd97-caaf-4db3-bb80-d1e953775e48\">\n",
              "    <div class=\"colab-df-container\">\n",
              "      <div>\n",
              "<style scoped>\n",
              "    .dataframe tbody tr th:only-of-type {\n",
              "        vertical-align: middle;\n",
              "    }\n",
              "\n",
              "    .dataframe tbody tr th {\n",
              "        vertical-align: top;\n",
              "    }\n",
              "\n",
              "    .dataframe thead th {\n",
              "        text-align: right;\n",
              "    }\n",
              "</style>\n",
              "<table border=\"1\" class=\"dataframe\">\n",
              "  <thead>\n",
              "    <tr style=\"text-align: right;\">\n",
              "      <th></th>\n",
              "      <th>0</th>\n",
              "      <th>1</th>\n",
              "      <th>2</th>\n",
              "      <th>3</th>\n",
              "      <th>4</th>\n",
              "    </tr>\n",
              "  </thead>\n",
              "  <tbody>\n",
              "    <tr>\n",
              "      <th>0</th>\n",
              "      <td></td>\n",
              "      <td>xgc</td>\n",
              "      <td>rid</td>\n",
              "      <td>dtc</td>\n",
              "      <td>rfc</td>\n",
              "    </tr>\n",
              "    <tr>\n",
              "      <th>1</th>\n",
              "      <td>com</td>\n",
              "      <td>0.000468148</td>\n",
              "      <td>0.00113526</td>\n",
              "      <td>0.00081926</td>\n",
              "      <td>0.000514963</td>\n",
              "    </tr>\n",
              "    <tr>\n",
              "      <th>2</th>\n",
              "      <td>sem</td>\n",
              "      <td>0.000468148</td>\n",
              "      <td>0.00113526</td>\n",
              "      <td>0.000854371</td>\n",
              "      <td>0.000491556</td>\n",
              "    </tr>\n",
              "  </tbody>\n",
              "</table>\n",
              "</div>\n",
              "      <button class=\"colab-df-convert\" onclick=\"convertToInteractive('df-fa2efd97-caaf-4db3-bb80-d1e953775e48')\"\n",
              "              title=\"Convert this dataframe to an interactive table.\"\n",
              "              style=\"display:none;\">\n",
              "        \n",
              "  <svg xmlns=\"http://www.w3.org/2000/svg\" height=\"24px\"viewBox=\"0 0 24 24\"\n",
              "       width=\"24px\">\n",
              "    <path d=\"M0 0h24v24H0V0z\" fill=\"none\"/>\n",
              "    <path d=\"M18.56 5.44l.94 2.06.94-2.06 2.06-.94-2.06-.94-.94-2.06-.94 2.06-2.06.94zm-11 1L8.5 8.5l.94-2.06 2.06-.94-2.06-.94L8.5 2.5l-.94 2.06-2.06.94zm10 10l.94 2.06.94-2.06 2.06-.94-2.06-.94-.94-2.06-.94 2.06-2.06.94z\"/><path d=\"M17.41 7.96l-1.37-1.37c-.4-.4-.92-.59-1.43-.59-.52 0-1.04.2-1.43.59L10.3 9.45l-7.72 7.72c-.78.78-.78 2.05 0 2.83L4 21.41c.39.39.9.59 1.41.59.51 0 1.02-.2 1.41-.59l7.78-7.78 2.81-2.81c.8-.78.8-2.07 0-2.86zM5.41 20L4 18.59l7.72-7.72 1.47 1.35L5.41 20z\"/>\n",
              "  </svg>\n",
              "      </button>\n",
              "      \n",
              "  <style>\n",
              "    .colab-df-container {\n",
              "      display:flex;\n",
              "      flex-wrap:wrap;\n",
              "      gap: 12px;\n",
              "    }\n",
              "\n",
              "    .colab-df-convert {\n",
              "      background-color: #E8F0FE;\n",
              "      border: none;\n",
              "      border-radius: 50%;\n",
              "      cursor: pointer;\n",
              "      display: none;\n",
              "      fill: #1967D2;\n",
              "      height: 32px;\n",
              "      padding: 0 0 0 0;\n",
              "      width: 32px;\n",
              "    }\n",
              "\n",
              "    .colab-df-convert:hover {\n",
              "      background-color: #E2EBFA;\n",
              "      box-shadow: 0px 1px 2px rgba(60, 64, 67, 0.3), 0px 1px 3px 1px rgba(60, 64, 67, 0.15);\n",
              "      fill: #174EA6;\n",
              "    }\n",
              "\n",
              "    [theme=dark] .colab-df-convert {\n",
              "      background-color: #3B4455;\n",
              "      fill: #D2E3FC;\n",
              "    }\n",
              "\n",
              "    [theme=dark] .colab-df-convert:hover {\n",
              "      background-color: #434B5C;\n",
              "      box-shadow: 0px 1px 3px 1px rgba(0, 0, 0, 0.15);\n",
              "      filter: drop-shadow(0px 1px 2px rgba(0, 0, 0, 0.3));\n",
              "      fill: #FFFFFF;\n",
              "    }\n",
              "  </style>\n",
              "\n",
              "      <script>\n",
              "        const buttonEl =\n",
              "          document.querySelector('#df-fa2efd97-caaf-4db3-bb80-d1e953775e48 button.colab-df-convert');\n",
              "        buttonEl.style.display =\n",
              "          google.colab.kernel.accessAllowed ? 'block' : 'none';\n",
              "\n",
              "        async function convertToInteractive(key) {\n",
              "          const element = document.querySelector('#df-fa2efd97-caaf-4db3-bb80-d1e953775e48');\n",
              "          const dataTable =\n",
              "            await google.colab.kernel.invokeFunction('convertToInteractive',\n",
              "                                                     [key], {});\n",
              "          if (!dataTable) return;\n",
              "\n",
              "          const docLinkHtml = 'Like what you see? Visit the ' +\n",
              "            '<a target=\"_blank\" href=https://colab.research.google.com/notebooks/data_table.ipynb>data table notebook</a>'\n",
              "            + ' to learn more about interactive tables.';\n",
              "          element.innerHTML = '';\n",
              "          dataTable['output_type'] = 'display_data';\n",
              "          await google.colab.output.renderOutput(dataTable, element);\n",
              "          const docLink = document.createElement('div');\n",
              "          docLink.innerHTML = docLinkHtml;\n",
              "          element.appendChild(docLink);\n",
              "        }\n",
              "      </script>\n",
              "    </div>\n",
              "  </div>\n",
              "  "
            ],
            "text/plain": [
              "     0            1           2            3            4\n",
              "0               xgc         rid          dtc          rfc\n",
              "1  com  0.000468148  0.00113526   0.00081926  0.000514963\n",
              "2  sem  0.000468148  0.00113526  0.000854371  0.000491556"
            ]
          },
          "metadata": {},
          "execution_count": 36
        }
      ]
    }
  ]
}